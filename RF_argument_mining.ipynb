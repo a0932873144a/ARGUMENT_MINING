{
  "nbformat": 4,
  "nbformat_minor": 0,
  "metadata": {
    "colab": {
      "provenance": []
    },
    "kernelspec": {
      "name": "python3",
      "display_name": "Python 3"
    },
    "language_info": {
      "name": "python"
    }
  },
  "cells": [
    {
      "cell_type": "markdown",
      "source": [
        "###Step 1: 資料前處理"
      ],
      "metadata": {
        "id": "3CbQHwt2rXiI"
      }
    },
    {
      "cell_type": "code",
      "execution_count": 1,
      "metadata": {
        "id": "xvS-NHJxnEwW"
      },
      "outputs": [],
      "source": [
        "import csv\n",
        "import pandas as pd\n",
        "from sklearn.preprocessing import LabelEncoder\n",
        "\n",
        "# 讀取資料\n",
        "def load_data(file_path):\n",
        "    with open(file_path, 'r', encoding='latin-1') as csvfile:\n",
        "        csv_reader = csv.reader(csvfile)\n",
        "        next(csv_reader)  # 跳過標題行\n",
        "        data = [row[:4] for row in csv_reader if row[3] in ['AGREE', 'DISAGREE'] and not any(cell.strip() == '' for cell in row[:4])]\n",
        "    return data\n",
        "\n",
        "# 載入資料\n",
        "train_data = load_data('train_data.csv')\n",
        "\n",
        "# 取得每筆資料的 q 和 r 欄位\n",
        "q_data = [row[1] for row in train_data]\n",
        "r_data = [row[2] for row in train_data]\n",
        "\n",
        "# 將 q 和 r 合併成一個新的列表\n",
        "combined_data = [q + ' ' + r for q, r in zip(q_data, r_data)]\n",
        "\n",
        "# 取得目標值 s\n",
        "y = [row[3] for row in train_data]\n",
        "encoder = LabelEncoder()\n",
        "y = encoder.fit_transform(y)\n"
      ]
    },
    {
      "cell_type": "markdown",
      "source": [
        "###Step 2: 特徵提取"
      ],
      "metadata": {
        "id": "ieZ1b7QHrpzL"
      }
    },
    {
      "cell_type": "code",
      "source": [
        "from sklearn.feature_extraction.text import TfidfVectorizer\n",
        "\n",
        "# 使用 TF-IDF 向量化器將文本資料轉換成數值特徵向量\n",
        "vectorizer = TfidfVectorizer(max_features=5000)\n",
        "X = vectorizer.fit_transform(combined_data)\n"
      ],
      "metadata": {
        "id": "KXFtTL3irsnr"
      },
      "execution_count": 2,
      "outputs": []
    },
    {
      "cell_type": "markdown",
      "source": [
        "###Step 3: 切分訓練集和測試集"
      ],
      "metadata": {
        "id": "PvuZHThhSFUp"
      }
    },
    {
      "cell_type": "code",
      "source": [
        "from sklearn.model_selection import train_test_split\n",
        "\n",
        "# 切分訓練集和測試集\n",
        "X_train, X_test, y_train, y_test = train_test_split(X, y, test_size=0.2, random_state=42)\n"
      ],
      "metadata": {
        "id": "bzSJRm_rSSed"
      },
      "execution_count": 3,
      "outputs": []
    },
    {
      "cell_type": "markdown",
      "source": [
        "###Step 4: 模型構建與訓練"
      ],
      "metadata": {
        "id": "OQXC_fqurucQ"
      }
    },
    {
      "cell_type": "code",
      "source": [
        "from sklearn.ensemble import RandomForestClassifier\n",
        "\n",
        "# 使用隨機森林模型進行訓練\n",
        "rf_model = RandomForestClassifier(n_estimators=100, random_state=42)\n",
        "rf_model.fit(X_train, y_train)\n"
      ],
      "metadata": {
        "colab": {
          "base_uri": "https://localhost:8080/",
          "height": 74
        },
        "id": "HzKqhk_2ryoo",
        "outputId": "6dd4a0bd-81ad-47f1-98bb-d8f8acfa73a1"
      },
      "execution_count": 4,
      "outputs": [
        {
          "output_type": "execute_result",
          "data": {
            "text/plain": [
              "RandomForestClassifier(random_state=42)"
            ],
            "text/html": [
              "<style>#sk-container-id-1 {color: black;background-color: white;}#sk-container-id-1 pre{padding: 0;}#sk-container-id-1 div.sk-toggleable {background-color: white;}#sk-container-id-1 label.sk-toggleable__label {cursor: pointer;display: block;width: 100%;margin-bottom: 0;padding: 0.3em;box-sizing: border-box;text-align: center;}#sk-container-id-1 label.sk-toggleable__label-arrow:before {content: \"▸\";float: left;margin-right: 0.25em;color: #696969;}#sk-container-id-1 label.sk-toggleable__label-arrow:hover:before {color: black;}#sk-container-id-1 div.sk-estimator:hover label.sk-toggleable__label-arrow:before {color: black;}#sk-container-id-1 div.sk-toggleable__content {max-height: 0;max-width: 0;overflow: hidden;text-align: left;background-color: #f0f8ff;}#sk-container-id-1 div.sk-toggleable__content pre {margin: 0.2em;color: black;border-radius: 0.25em;background-color: #f0f8ff;}#sk-container-id-1 input.sk-toggleable__control:checked~div.sk-toggleable__content {max-height: 200px;max-width: 100%;overflow: auto;}#sk-container-id-1 input.sk-toggleable__control:checked~label.sk-toggleable__label-arrow:before {content: \"▾\";}#sk-container-id-1 div.sk-estimator input.sk-toggleable__control:checked~label.sk-toggleable__label {background-color: #d4ebff;}#sk-container-id-1 div.sk-label input.sk-toggleable__control:checked~label.sk-toggleable__label {background-color: #d4ebff;}#sk-container-id-1 input.sk-hidden--visually {border: 0;clip: rect(1px 1px 1px 1px);clip: rect(1px, 1px, 1px, 1px);height: 1px;margin: -1px;overflow: hidden;padding: 0;position: absolute;width: 1px;}#sk-container-id-1 div.sk-estimator {font-family: monospace;background-color: #f0f8ff;border: 1px dotted black;border-radius: 0.25em;box-sizing: border-box;margin-bottom: 0.5em;}#sk-container-id-1 div.sk-estimator:hover {background-color: #d4ebff;}#sk-container-id-1 div.sk-parallel-item::after {content: \"\";width: 100%;border-bottom: 1px solid gray;flex-grow: 1;}#sk-container-id-1 div.sk-label:hover label.sk-toggleable__label {background-color: #d4ebff;}#sk-container-id-1 div.sk-serial::before {content: \"\";position: absolute;border-left: 1px solid gray;box-sizing: border-box;top: 0;bottom: 0;left: 50%;z-index: 0;}#sk-container-id-1 div.sk-serial {display: flex;flex-direction: column;align-items: center;background-color: white;padding-right: 0.2em;padding-left: 0.2em;position: relative;}#sk-container-id-1 div.sk-item {position: relative;z-index: 1;}#sk-container-id-1 div.sk-parallel {display: flex;align-items: stretch;justify-content: center;background-color: white;position: relative;}#sk-container-id-1 div.sk-item::before, #sk-container-id-1 div.sk-parallel-item::before {content: \"\";position: absolute;border-left: 1px solid gray;box-sizing: border-box;top: 0;bottom: 0;left: 50%;z-index: -1;}#sk-container-id-1 div.sk-parallel-item {display: flex;flex-direction: column;z-index: 1;position: relative;background-color: white;}#sk-container-id-1 div.sk-parallel-item:first-child::after {align-self: flex-end;width: 50%;}#sk-container-id-1 div.sk-parallel-item:last-child::after {align-self: flex-start;width: 50%;}#sk-container-id-1 div.sk-parallel-item:only-child::after {width: 0;}#sk-container-id-1 div.sk-dashed-wrapped {border: 1px dashed gray;margin: 0 0.4em 0.5em 0.4em;box-sizing: border-box;padding-bottom: 0.4em;background-color: white;}#sk-container-id-1 div.sk-label label {font-family: monospace;font-weight: bold;display: inline-block;line-height: 1.2em;}#sk-container-id-1 div.sk-label-container {text-align: center;}#sk-container-id-1 div.sk-container {/* jupyter's `normalize.less` sets `[hidden] { display: none; }` but bootstrap.min.css set `[hidden] { display: none !important; }` so we also need the `!important` here to be able to override the default hidden behavior on the sphinx rendered scikit-learn.org. See: https://github.com/scikit-learn/scikit-learn/issues/21755 */display: inline-block !important;position: relative;}#sk-container-id-1 div.sk-text-repr-fallback {display: none;}</style><div id=\"sk-container-id-1\" class=\"sk-top-container\"><div class=\"sk-text-repr-fallback\"><pre>RandomForestClassifier(random_state=42)</pre><b>In a Jupyter environment, please rerun this cell to show the HTML representation or trust the notebook. <br />On GitHub, the HTML representation is unable to render, please try loading this page with nbviewer.org.</b></div><div class=\"sk-container\" hidden><div class=\"sk-item\"><div class=\"sk-estimator sk-toggleable\"><input class=\"sk-toggleable__control sk-hidden--visually\" id=\"sk-estimator-id-1\" type=\"checkbox\" checked><label for=\"sk-estimator-id-1\" class=\"sk-toggleable__label sk-toggleable__label-arrow\">RandomForestClassifier</label><div class=\"sk-toggleable__content\"><pre>RandomForestClassifier(random_state=42)</pre></div></div></div></div></div>"
            ]
          },
          "metadata": {},
          "execution_count": 4
        }
      ]
    },
    {
      "cell_type": "markdown",
      "source": [
        "###Step 5: 模型評估"
      ],
      "metadata": {
        "id": "xM9XiTosr0b_"
      }
    },
    {
      "cell_type": "code",
      "source": [
        "from sklearn.metrics import classification_report, accuracy_score\n",
        "\n",
        "# 預測\n",
        "y_pred = rf_model.predict(X_test)\n",
        "\n",
        "# 評估模型精確性\n",
        "print(\"Test Data:\")\n",
        "print(\"Accuracy:\", accuracy_score(y_test, y_pred))\n",
        "print(classification_report(y_test, y_pred))\n"
      ],
      "metadata": {
        "id": "4b90LKumr3K1",
        "colab": {
          "base_uri": "https://localhost:8080/"
        },
        "outputId": "13d1f198-fd9a-4937-ec0d-deab307a559f"
      },
      "execution_count": 5,
      "outputs": [
        {
          "output_type": "stream",
          "name": "stdout",
          "text": [
            "Test Data:\n",
            "Accuracy: 0.9972606313592486\n",
            "              precision    recall  f1-score   support\n",
            "\n",
            "           0       1.00      0.98      0.99      1376\n",
            "           1       1.00      1.00      1.00      6290\n",
            "\n",
            "    accuracy                           1.00      7666\n",
            "   macro avg       1.00      0.99      1.00      7666\n",
            "weighted avg       1.00      1.00      1.00      7666\n",
            "\n"
          ]
        }
      ]
    },
    {
      "cell_type": "markdown",
      "source": [
        "###Step 6: 模型精確性"
      ],
      "metadata": {
        "id": "XYieDJRtA_uW"
      }
    },
    {
      "cell_type": "code",
      "source": [
        "# 提取特徵\n",
        "def extract_features(data):\n",
        "    q_data = [row[1] for row in data]\n",
        "    r_data = [row[2] for row in data]\n",
        "    combined_data = [q + ' ' + r for q, r in zip(q_data, r_data)]\n",
        "    X_test = vectorizer.transform(combined_data)\n",
        "    return X_test, [row[3] for row in data]\n",
        "\n",
        "# 載入測試資料\n",
        "test_data_public = load_data('test_data_public.csv')\n",
        "test_data_private = load_data('test_data_private.csv')\n",
        "\n",
        "# 提取特徵\n",
        "X_test_public, y_test_public = extract_features(test_data_public)\n",
        "X_test_private, y_test_private = extract_features(test_data_private)\n",
        "\n",
        "# 預測\n",
        "y_pred_public = rf_model.predict(X_test_public)\n",
        "y_pred_private = rf_model.predict(X_test_private)\n",
        "\n",
        "# 評估模型精確性\n",
        "print(\"Public Test Data:\")\n",
        "print(\"Accuracy:\", accuracy_score(encoder.transform(y_test_public), y_pred_public))\n",
        "print(classification_report(encoder.transform(y_test_public), y_pred_public))\n",
        "\n",
        "print(\"\\nPrivate Test Data:\")\n",
        "print(\"Accuracy:\", accuracy_score(encoder.transform(y_test_private), y_pred_private))\n",
        "print(classification_report(encoder.transform(y_test_private), y_pred_private))\n"
      ],
      "metadata": {
        "id": "ec03cX0QBVIG",
        "colab": {
          "base_uri": "https://localhost:8080/"
        },
        "outputId": "ad4a788e-e7c8-466f-f385-a1707fddfc04"
      },
      "execution_count": 9,
      "outputs": [
        {
          "output_type": "stream",
          "name": "stdout",
          "text": [
            "Public Test Data:\n",
            "Accuracy: 0.8222132362852136\n",
            "              precision    recall  f1-score   support\n",
            "\n",
            "           0       0.53      0.02      0.04      1322\n",
            "           1       0.82      1.00      0.90      6097\n",
            "\n",
            "    accuracy                           0.82      7419\n",
            "   macro avg       0.68      0.51      0.47      7419\n",
            "weighted avg       0.77      0.82      0.75      7419\n",
            "\n",
            "\n",
            "Private Test Data:\n",
            "Accuracy: 0.8192281651997292\n",
            "              precision    recall  f1-score   support\n",
            "\n",
            "           0       0.69      0.05      0.09      1371\n",
            "           1       0.82      1.00      0.90      6014\n",
            "\n",
            "    accuracy                           0.82      7385\n",
            "   macro avg       0.76      0.52      0.49      7385\n",
            "weighted avg       0.80      0.82      0.75      7385\n",
            "\n"
          ]
        }
      ]
    }
  ]
}