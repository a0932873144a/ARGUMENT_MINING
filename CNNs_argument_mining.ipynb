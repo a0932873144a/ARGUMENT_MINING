{
  "nbformat": 4,
  "nbformat_minor": 0,
  "metadata": {
    "colab": {
      "provenance": []
    },
    "kernelspec": {
      "name": "python3",
      "display_name": "Python 3"
    },
    "language_info": {
      "name": "python"
    }
  },
  "cells": [
    {
      "cell_type": "markdown",
      "source": [
        "###Step 1: 資料前處理"
      ],
      "metadata": {
        "id": "3CbQHwt2rXiI"
      }
    },
    {
      "cell_type": "code",
      "execution_count": 1,
      "metadata": {
        "id": "xvS-NHJxnEwW"
      },
      "outputs": [],
      "source": [
        "import csv\n",
        "import pandas as pd\n",
        "from sklearn.preprocessing import LabelEncoder\n",
        "\n",
        "# 讀取資料\n",
        "def load_data(file_path):\n",
        "    with open(file_path, 'r', encoding='latin-1') as csvfile:\n",
        "        csv_reader = csv.reader(csvfile)\n",
        "        next(csv_reader)  # 跳過標題行\n",
        "        data = [row[:4] for row in csv_reader if row[3] in ['AGREE', 'DISAGREE'] and not any(cell.strip() == '' for cell in row[:4])]\n",
        "    return data\n",
        "\n",
        "# 載入資料\n",
        "train_data = load_data('train_data.csv')\n",
        "\n",
        "# 取得每筆資料的 q 和 r 欄位\n",
        "q_data = [row[1] for row in train_data]\n",
        "r_data = [row[2] for row in train_data]\n",
        "\n",
        "# 將 q 和 r 合併成一個新的列表\n",
        "combined_data = [q + ' ' + r for q, r in zip(q_data, r_data)]\n",
        "\n",
        "# 取得目標值 s\n",
        "y = [row[3] for row in train_data]\n",
        "encoder = LabelEncoder()\n",
        "y = encoder.fit_transform(y)\n"
      ]
    },
    {
      "cell_type": "markdown",
      "source": [
        "###Step 2: 文本數據轉換為數值特徵"
      ],
      "metadata": {
        "id": "NPLWjWBk-qhA"
      }
    },
    {
      "cell_type": "code",
      "source": [
        "from tensorflow.keras.preprocessing.text import Tokenizer\n",
        "from tensorflow.keras.preprocessing.sequence import pad_sequences\n",
        "\n",
        "# 參數設定\n",
        "max_length = 128\n",
        "trunc_type='post'\n",
        "padding_type='post'\n",
        "oov_tok = \"<OOV>\"\n",
        "\n",
        "# 建立tokenizer\n",
        "tokenizer = Tokenizer(oov_token=oov_tok)\n",
        "tokenizer.fit_on_texts(combined_data)\n",
        "word_index = tokenizer.word_index\n",
        "\n",
        "# 將文本數據轉換為數字序列\n",
        "X_sequences = tokenizer.texts_to_sequences(combined_data)\n",
        "X_padded = pad_sequences(X_sequences, maxlen=max_length, padding=padding_type, truncating=trunc_type)\n"
      ],
      "metadata": {
        "id": "ijljRu-0-qzr"
      },
      "execution_count": 2,
      "outputs": []
    },
    {
      "cell_type": "markdown",
      "source": [
        "###Step 3: 切分訓練集和測試集"
      ],
      "metadata": {
        "id": "ieZ1b7QHrpzL"
      }
    },
    {
      "cell_type": "code",
      "source": [
        "from sklearn.model_selection import train_test_split\n",
        "\n",
        "# 切分訓練集和測試集\n",
        "X_train, X_test, y_train, y_test = train_test_split(X_padded, y, test_size=0.2, random_state=42)\n"
      ],
      "metadata": {
        "id": "KXFtTL3irsnr"
      },
      "execution_count": 3,
      "outputs": []
    },
    {
      "cell_type": "markdown",
      "source": [
        "###Step 4: 模型構建"
      ],
      "metadata": {
        "id": "PvuZHThhSFUp"
      }
    },
    {
      "cell_type": "code",
      "source": [
        "import tensorflow as tf\n",
        "from tensorflow.keras.models import Sequential\n",
        "from tensorflow.keras.layers import Embedding, Conv1D, GlobalMaxPooling1D, Dense, Dropout\n",
        "\n",
        "# 參數設定\n",
        "embedding_dim = 64\n",
        "num_filters = 64\n",
        "kernel_size = 5\n",
        "dropout_rate = 0.5\n",
        "\n",
        "# 建立CNN模型\n",
        "model = Sequential([\n",
        "    Embedding(len(word_index) + 1, embedding_dim, input_length=max_length),\n",
        "    Conv1D(filters=num_filters, kernel_size=kernel_size, activation='relu'),\n",
        "    GlobalMaxPooling1D(),\n",
        "    Dense(64, activation='relu'),\n",
        "    Dropout(dropout_rate),\n",
        "    Dense(1, activation='sigmoid')\n",
        "])\n",
        "\n",
        "# 編譯模型\n",
        "model.compile(loss='binary_crossentropy', optimizer='adam', metrics=['accuracy'])\n",
        "\n",
        "# 顯示模型摘要\n",
        "model.summary()\n"
      ],
      "metadata": {
        "id": "bzSJRm_rSSed",
        "colab": {
          "base_uri": "https://localhost:8080/"
        },
        "outputId": "3121f053-96eb-48bc-8710-c451fe10a8f6"
      },
      "execution_count": 4,
      "outputs": [
        {
          "output_type": "stream",
          "name": "stdout",
          "text": [
            "Model: \"sequential\"\n",
            "_________________________________________________________________\n",
            " Layer (type)                Output Shape              Param #   \n",
            "=================================================================\n",
            " embedding (Embedding)       (None, 128, 64)           2017472   \n",
            "                                                                 \n",
            " conv1d (Conv1D)             (None, 124, 64)           20544     \n",
            "                                                                 \n",
            " global_max_pooling1d (Glob  (None, 64)                0         \n",
            " alMaxPooling1D)                                                 \n",
            "                                                                 \n",
            " dense (Dense)               (None, 64)                4160      \n",
            "                                                                 \n",
            " dropout (Dropout)           (None, 64)                0         \n",
            "                                                                 \n",
            " dense_1 (Dense)             (None, 1)                 65        \n",
            "                                                                 \n",
            "=================================================================\n",
            "Total params: 2042241 (7.79 MB)\n",
            "Trainable params: 2042241 (7.79 MB)\n",
            "Non-trainable params: 0 (0.00 Byte)\n",
            "_________________________________________________________________\n"
          ]
        }
      ]
    },
    {
      "cell_type": "markdown",
      "source": [
        "###Step 5: 模型訓練"
      ],
      "metadata": {
        "id": "OQXC_fqurucQ"
      }
    },
    {
      "cell_type": "code",
      "source": [
        "# 訓練模型\n",
        "history = model.fit(X_train, y_train, epochs=5, batch_size=32, validation_split=0.2)\n"
      ],
      "metadata": {
        "colab": {
          "base_uri": "https://localhost:8080/"
        },
        "id": "HzKqhk_2ryoo",
        "outputId": "dccc572d-e13a-48d0-861d-1fe69058f57d"
      },
      "execution_count": 5,
      "outputs": [
        {
          "output_type": "stream",
          "name": "stdout",
          "text": [
            "Epoch 1/5\n",
            "767/767 [==============================] - 46s 59ms/step - loss: 0.3421 - accuracy: 0.8682 - val_loss: 0.1430 - val_accuracy: 0.9560\n",
            "Epoch 2/5\n",
            "767/767 [==============================] - 47s 62ms/step - loss: 0.0626 - accuracy: 0.9834 - val_loss: 0.0627 - val_accuracy: 0.9814\n",
            "Epoch 3/5\n",
            "767/767 [==============================] - 45s 58ms/step - loss: 0.0204 - accuracy: 0.9965 - val_loss: 0.0630 - val_accuracy: 0.9852\n",
            "Epoch 4/5\n",
            "767/767 [==============================] - 45s 59ms/step - loss: 0.0149 - accuracy: 0.9978 - val_loss: 0.0663 - val_accuracy: 0.9868\n",
            "Epoch 5/5\n",
            "767/767 [==============================] - 46s 60ms/step - loss: 0.0128 - accuracy: 0.9980 - val_loss: 0.0690 - val_accuracy: 0.9876\n"
          ]
        }
      ]
    },
    {
      "cell_type": "markdown",
      "source": [
        "###Step 6: 模型評估"
      ],
      "metadata": {
        "id": "xM9XiTosr0b_"
      }
    },
    {
      "cell_type": "code",
      "source": [
        "# 評估模型\n",
        "loss, accuracy = model.evaluate(X_test, y_test)\n",
        "print(f\"Test Accuracy: {accuracy}\")\n"
      ],
      "metadata": {
        "id": "4b90LKumr3K1",
        "colab": {
          "base_uri": "https://localhost:8080/"
        },
        "outputId": "d1264169-0f9c-4bd3-a186-c5077c27edb0"
      },
      "execution_count": 6,
      "outputs": [
        {
          "output_type": "stream",
          "name": "stdout",
          "text": [
            "240/240 [==============================] - 2s 7ms/step - loss: 0.0574 - accuracy: 0.9893\n",
            "Test Accuracy: 0.9893034100532532\n"
          ]
        }
      ]
    },
    {
      "cell_type": "markdown",
      "source": [
        "###Step 7: 模型精確性"
      ],
      "metadata": {
        "id": "XYieDJRtA_uW"
      }
    },
    {
      "cell_type": "code",
      "source": [
        "# 提取特徵\n",
        "def extract_features(data, tokenizer, max_length):\n",
        "    q_data = [row[1] for row in data]\n",
        "    r_data = [row[2] for row in data]\n",
        "    combined_data = [q + ' ' + r for q, r in zip(q_data, r_data)]\n",
        "    X_sequences = tokenizer.texts_to_sequences(combined_data)\n",
        "    X_padded = pad_sequences(X_sequences, maxlen=max_length, padding='post', truncating='post')\n",
        "    return X_padded, [row[3] for row in data]\n",
        "\n",
        "# 載入測試資料\n",
        "test_data_public = load_data('test_data_public.csv')\n",
        "test_data_private = load_data('test_data_private.csv')\n",
        "\n",
        "# 提取特徵\n",
        "X_test_public, y_test_public = extract_features(test_data_public, tokenizer, max_length)\n",
        "X_test_private, y_test_private = extract_features(test_data_private, tokenizer, max_length)\n",
        "\n",
        "# 預測\n",
        "y_pred_public = model.predict(X_test_public)\n",
        "y_pred_private = model.predict(X_test_private)\n",
        "\n",
        "# 將概率轉換為類標\n",
        "y_pred_public = (y_pred_public > 0.5).astype(int)\n",
        "y_pred_private = (y_pred_private > 0.5).astype(int)\n",
        "\n",
        "# 評估模型精確性\n",
        "from sklearn.metrics import classification_report, accuracy_score\n",
        "\n",
        "print(\"Public Test Data:\")\n",
        "print(\"Accuracy:\", accuracy_score(encoder.transform(y_test_public), y_pred_public))\n",
        "print(classification_report(encoder.transform(y_test_public), y_pred_public))\n",
        "\n",
        "print(\"\\nPrivate Test Data:\")\n",
        "print(\"Accuracy:\", accuracy_score(encoder.transform(y_test_private), y_pred_private))\n",
        "print(classification_report(encoder.transform(y_test_private), y_pred_private))\n"
      ],
      "metadata": {
        "id": "ec03cX0QBVIG",
        "colab": {
          "base_uri": "https://localhost:8080/"
        },
        "outputId": "3d2b9434-cf84-4e7f-cd62-cebeb2918a09"
      },
      "execution_count": 7,
      "outputs": [
        {
          "output_type": "stream",
          "name": "stdout",
          "text": [
            "232/232 [==============================] - 2s 8ms/step\n",
            "231/231 [==============================] - 2s 7ms/step\n",
            "Public Test Data:\n",
            "Accuracy: 0.7839331446286562\n",
            "              precision    recall  f1-score   support\n",
            "\n",
            "           0       0.31      0.17      0.22      1322\n",
            "           1       0.84      0.92      0.87      6097\n",
            "\n",
            "    accuracy                           0.78      7419\n",
            "   macro avg       0.57      0.55      0.55      7419\n",
            "weighted avg       0.74      0.78      0.76      7419\n",
            "\n",
            "\n",
            "Private Test Data:\n",
            "Accuracy: 0.7880839539607312\n",
            "              precision    recall  f1-score   support\n",
            "\n",
            "           0       0.36      0.18      0.24      1371\n",
            "           1       0.83      0.93      0.88      6014\n",
            "\n",
            "    accuracy                           0.79      7385\n",
            "   macro avg       0.59      0.55      0.56      7385\n",
            "weighted avg       0.74      0.79      0.76      7385\n",
            "\n"
          ]
        }
      ]
    }
  ]
}