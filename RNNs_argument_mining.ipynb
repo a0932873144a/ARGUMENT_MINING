{
  "nbformat": 4,
  "nbformat_minor": 0,
  "metadata": {
    "colab": {
      "provenance": []
    },
    "kernelspec": {
      "name": "python3",
      "display_name": "Python 3"
    },
    "language_info": {
      "name": "python"
    }
  },
  "cells": [
    {
      "cell_type": "markdown",
      "source": [
        "###Step 1: 資料前處理"
      ],
      "metadata": {
        "id": "3CbQHwt2rXiI"
      }
    },
    {
      "cell_type": "code",
      "execution_count": 1,
      "metadata": {
        "id": "xvS-NHJxnEwW"
      },
      "outputs": [],
      "source": [
        "import csv\n",
        "from sklearn.preprocessing import LabelEncoder\n",
        "from tensorflow.keras.preprocessing.text import Tokenizer\n",
        "from tensorflow.keras.preprocessing.sequence import pad_sequences\n",
        "\n",
        "# 讀取資料\n",
        "def load_data(file_path):\n",
        "    with open(file_path, 'r', encoding='latin-1') as csvfile:\n",
        "        csv_reader = csv.reader(csvfile)\n",
        "        next(csv_reader)  # 跳過標題行\n",
        "        data = [row[:4] for row in csv_reader if row[3] in ['AGREE', 'DISAGREE'] and not any(cell.strip() == '' for cell in row[:4])]\n",
        "    return data\n",
        "\n",
        "# 載入資料\n",
        "train_data = load_data('train_data.csv')\n",
        "\n",
        "# 取得每筆資料的 q 和 r 欄位\n",
        "q_data = [row[1] for row in train_data]\n",
        "r_data = [row[2] for row in train_data]\n",
        "\n",
        "# 將 q 和 r 合併成一個新的列表\n",
        "combined_data = [q + ' ' + r for q, r in zip(q_data, r_data)]\n",
        "\n",
        "# 使用Tokenizer將文本轉換為序列\n",
        "tokenizer = Tokenizer(num_words=5000)\n",
        "tokenizer.fit_on_texts(combined_data)\n",
        "X = tokenizer.texts_to_sequences(combined_data)\n",
        "X = pad_sequences(X, maxlen=100)  # 將序列填充到固定長度\n",
        "\n",
        "# 取得目標值 s\n",
        "y = [row[3] for row in train_data]\n",
        "encoder = LabelEncoder()\n",
        "y = encoder.fit_transform(y)\n"
      ]
    },
    {
      "cell_type": "markdown",
      "source": [
        "###Step 2: 切分訓練集和測試集"
      ],
      "metadata": {
        "id": "ieZ1b7QHrpzL"
      }
    },
    {
      "cell_type": "code",
      "source": [
        "from sklearn.model_selection import train_test_split\n",
        "\n",
        "# 切分訓練集和測試集\n",
        "X_train, X_test, y_train, y_test = train_test_split(X, y, test_size=0.2, random_state=42)\n"
      ],
      "metadata": {
        "id": "KXFtTL3irsnr"
      },
      "execution_count": 2,
      "outputs": []
    },
    {
      "cell_type": "markdown",
      "source": [
        "###Step 3: 模型構建"
      ],
      "metadata": {
        "id": "PvuZHThhSFUp"
      }
    },
    {
      "cell_type": "code",
      "source": [
        "from tensorflow.keras.models import Sequential\n",
        "from tensorflow.keras.layers import Embedding, LSTM, Dense, Dropout, Bidirectional\n",
        "\n",
        "# 構建RNN模型\n",
        "model = Sequential()\n",
        "model.add(Embedding(input_dim=5000, output_dim=128, input_length=100))\n",
        "model.add(Bidirectional(LSTM(64)))\n",
        "model.add(Dropout(0.5))\n",
        "model.add(Dense(1, activation='sigmoid'))\n",
        "\n",
        "# 編譯模型\n",
        "model.compile(loss='binary_crossentropy', optimizer='adam', metrics=['accuracy'])\n"
      ],
      "metadata": {
        "id": "bzSJRm_rSSed"
      },
      "execution_count": 3,
      "outputs": []
    },
    {
      "cell_type": "markdown",
      "source": [
        "###Step 4: 模型訓練"
      ],
      "metadata": {
        "id": "OQXC_fqurucQ"
      }
    },
    {
      "cell_type": "code",
      "source": [
        "# 訓練模型\n",
        "model.fit(X_train, y_train, epochs=5, batch_size=32, validation_split=0.2)\n"
      ],
      "metadata": {
        "colab": {
          "base_uri": "https://localhost:8080/"
        },
        "id": "HzKqhk_2ryoo",
        "outputId": "a220abb0-e034-4e63-80af-d4d753c4c06a"
      },
      "execution_count": 4,
      "outputs": [
        {
          "output_type": "stream",
          "name": "stdout",
          "text": [
            "Epoch 1/5\n",
            "767/767 [==============================] - 108s 135ms/step - loss: 0.3528 - accuracy: 0.8635 - val_loss: 0.2445 - val_accuracy: 0.9132\n",
            "Epoch 2/5\n",
            "767/767 [==============================] - 109s 142ms/step - loss: 0.1301 - accuracy: 0.9591 - val_loss: 0.1382 - val_accuracy: 0.9576\n",
            "Epoch 3/5\n",
            "767/767 [==============================] - 106s 138ms/step - loss: 0.0487 - accuracy: 0.9865 - val_loss: 0.1099 - val_accuracy: 0.9731\n",
            "Epoch 4/5\n",
            "767/767 [==============================] - 100s 130ms/step - loss: 0.0280 - accuracy: 0.9931 - val_loss: 0.1150 - val_accuracy: 0.9742\n",
            "Epoch 5/5\n",
            "767/767 [==============================] - 101s 132ms/step - loss: 0.0175 - accuracy: 0.9957 - val_loss: 0.0941 - val_accuracy: 0.9822\n"
          ]
        },
        {
          "output_type": "execute_result",
          "data": {
            "text/plain": [
              "<keras.src.callbacks.History at 0x7a244b6322c0>"
            ]
          },
          "metadata": {},
          "execution_count": 4
        }
      ]
    },
    {
      "cell_type": "markdown",
      "source": [
        "###Step 5: 模型評估"
      ],
      "metadata": {
        "id": "xM9XiTosr0b_"
      }
    },
    {
      "cell_type": "code",
      "source": [
        "from sklearn.metrics import classification_report, accuracy_score\n",
        "\n",
        "# 預測\n",
        "y_pred = (model.predict(X_test) > 0.5).astype(\"int32\")\n",
        "\n",
        "# 評估模型精確性\n",
        "print(\"Test Data:\")\n",
        "print(\"Accuracy:\", accuracy_score(y_test, y_pred))\n",
        "print(classification_report(y_test, y_pred))\n"
      ],
      "metadata": {
        "id": "4b90LKumr3K1",
        "colab": {
          "base_uri": "https://localhost:8080/"
        },
        "outputId": "28e9603d-43a3-488e-d5ce-78b447158263"
      },
      "execution_count": 5,
      "outputs": [
        {
          "output_type": "stream",
          "name": "stdout",
          "text": [
            "240/240 [==============================] - 9s 35ms/step\n",
            "Test Data:\n",
            "Accuracy: 0.9847378032872424\n",
            "              precision    recall  f1-score   support\n",
            "\n",
            "           0       0.97      0.95      0.96      1376\n",
            "           1       0.99      0.99      0.99      6290\n",
            "\n",
            "    accuracy                           0.98      7666\n",
            "   macro avg       0.98      0.97      0.97      7666\n",
            "weighted avg       0.98      0.98      0.98      7666\n",
            "\n"
          ]
        }
      ]
    },
    {
      "cell_type": "markdown",
      "source": [
        "###Step 6: 模型精確性"
      ],
      "metadata": {
        "id": "XYieDJRtA_uW"
      }
    },
    {
      "cell_type": "code",
      "source": [
        "# 提取特徵\n",
        "def extract_features(data):\n",
        "    q_data = [row[1] for row in data]\n",
        "    r_data = [row[2] for row in data]\n",
        "    combined_data = [q + ' ' + r for q, r in zip(q_data, r_data)]\n",
        "    X_test = tokenizer.texts_to_sequences(combined_data)\n",
        "    X_test = pad_sequences(X_test, maxlen=100)\n",
        "    return X_test, [row[3] for row in data]\n",
        "\n",
        "# 載入測試資料\n",
        "test_data_public = load_data('test_data_public.csv')\n",
        "test_data_private = load_data('test_data_private.csv')\n",
        "\n",
        "# 提取特徵\n",
        "X_test_public, y_test_public = extract_features(test_data_public)\n",
        "X_test_private, y_test_private = extract_features(test_data_private)\n",
        "\n",
        "# 預測\n",
        "y_pred_public = (model.predict(X_test_public) > 0.5).astype(\"int32\")\n",
        "y_pred_private = (model.predict(X_test_private) > 0.5).astype(\"int32\")\n",
        "\n",
        "# 評估模型精確性\n",
        "print(\"Public Test Data:\")\n",
        "print(\"Accuracy:\", accuracy_score(encoder.transform(y_test_public), y_pred_public))\n",
        "print(classification_report(encoder.transform(y_test_public), y_pred_public))\n",
        "\n",
        "print(\"\\nPrivate Test Data:\")\n",
        "print(\"Accuracy:\", accuracy_score(encoder.transform(y_test_private), y_pred_private))\n",
        "print(classification_report(encoder.transform(y_test_private), y_pred_private))\n"
      ],
      "metadata": {
        "id": "ec03cX0QBVIG",
        "colab": {
          "base_uri": "https://localhost:8080/"
        },
        "outputId": "a26edfcd-6c2c-4c9e-9c7d-c822090959b2"
      },
      "execution_count": 6,
      "outputs": [
        {
          "output_type": "stream",
          "name": "stdout",
          "text": [
            "232/232 [==============================] - 6s 27ms/step\n",
            "231/231 [==============================] - 8s 34ms/step\n",
            "Public Test Data:\n",
            "Accuracy: 0.7546839196657231\n",
            "              precision    recall  f1-score   support\n",
            "\n",
            "           0       0.28      0.23      0.25      1322\n",
            "           1       0.84      0.87      0.85      6097\n",
            "\n",
            "    accuracy                           0.75      7419\n",
            "   macro avg       0.56      0.55      0.55      7419\n",
            "weighted avg       0.74      0.75      0.75      7419\n",
            "\n",
            "\n",
            "Private Test Data:\n",
            "Accuracy: 0.7547731888964117\n",
            "              precision    recall  f1-score   support\n",
            "\n",
            "           0       0.30      0.23      0.26      1371\n",
            "           1       0.83      0.87      0.85      6014\n",
            "\n",
            "    accuracy                           0.75      7385\n",
            "   macro avg       0.56      0.55      0.56      7385\n",
            "weighted avg       0.73      0.75      0.74      7385\n",
            "\n"
          ]
        }
      ]
    }
  ]
}