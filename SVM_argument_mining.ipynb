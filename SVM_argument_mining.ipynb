{
  "nbformat": 4,
  "nbformat_minor": 0,
  "metadata": {
    "colab": {
      "provenance": []
    },
    "kernelspec": {
      "name": "python3",
      "display_name": "Python 3"
    },
    "language_info": {
      "name": "python"
    }
  },
  "cells": [
    {
      "cell_type": "markdown",
      "source": [
        "###Step 1: 資料前處理"
      ],
      "metadata": {
        "id": "3CbQHwt2rXiI"
      }
    },
    {
      "cell_type": "code",
      "execution_count": 6,
      "metadata": {
        "colab": {
          "base_uri": "https://localhost:8080/"
        },
        "id": "xvS-NHJxnEwW",
        "outputId": "5e5f6899-dc12-4343-85df-ac88528ac457"
      },
      "outputs": [
        {
          "output_type": "stream",
          "name": "stdout",
          "text": [
            "['8', '\"It can go both ways . We all doubt . It is what you do with it that matters .\"', '\"True .\"', 'AGREE']\n",
            "['8', '\"It can go both ways . We all doubt . It is what you do with it that matters .\"', '\"True .\"', 'AGREE']\n",
            "['8', '\"It can go both ways . We all doubt . It is what you do with it that matters .\"', '\"True .\"', 'AGREE']\n",
            "['9', '\"once again , you seem to support the killing of certain people ... based on what ?\"', '\"based on the idea that people are dispensible , particularly if they obstruct your well-being . a woman would abort her baby because being a mother contradicts her idea of well-being . in the same way we send soldiers to kill the enemy if they are deemed contrary to the well-being of our country can you be against abortion and pro-war ?\"', 'AGREE']\n",
            "['9', '\"once again , you seem to support the killing of certain people ... based on what ?\"', '\"based on the idea that people are dispensible , particularly if they obstruct your well-being . a woman would abort her baby because being a mother contradicts her idea of well-being . in the same way we send soldiers to kill the enemy if they are deemed contrary to the well-being of our country can you be against abortion and pro-war ?\"', 'AGREE']\n",
            "行數: 38326\n"
          ]
        }
      ],
      "source": [
        "import csv\n",
        "\n",
        "# 讀取資料\n",
        "def load_data(file_path):\n",
        "    with open(file_path, 'r', encoding='latin-1') as csvfile:\n",
        "        csv_reader = csv.reader(csvfile)\n",
        "        next(csv_reader)  # 跳過標題行\n",
        "        data = [row[:4] for row in csv_reader if row[3] in ['AGREE', 'DISAGREE'] and not any(cell.strip() == '' for cell in row[:4])]\n",
        "    return data\n",
        "\n",
        "# 載入資料\n",
        "train_data = load_data('train_data.csv')\n",
        "\n",
        "# 顯示存儲的CSV資料的頭幾筆\n",
        "for row in train_data[:5]:\n",
        "    print(row)  # 取出前五筆資料\n",
        "\n",
        "\n",
        "# 取得行數和列數\n",
        "num_rows = len(train_data)\n",
        "print(\"行數:\", num_rows)"
      ]
    },
    {
      "cell_type": "markdown",
      "source": [
        "###Step 2: 特徵提取"
      ],
      "metadata": {
        "id": "ieZ1b7QHrpzL"
      }
    },
    {
      "cell_type": "code",
      "source": [
        "from sklearn.feature_extraction.text import TfidfVectorizer\n",
        "\n",
        "# 取得每筆資料的 q 和 r 欄位\n",
        "q_data = [row[1] for row in train_data]\n",
        "r_data = [row[2] for row in train_data]\n",
        "\n",
        "# 將 q 和 r 合併成一個新的列表\n",
        "combined_data = [q + ' ' + r for q, r in zip(q_data, r_data)]\n",
        "\n",
        "# 使用 TF-IDF 向量化器將文本資料轉換成數值特徵向量\n",
        "vectorizer = TfidfVectorizer()\n",
        "X = vectorizer.fit_transform(combined_data)"
      ],
      "metadata": {
        "id": "KXFtTL3irsnr"
      },
      "execution_count": 7,
      "outputs": []
    },
    {
      "cell_type": "markdown",
      "source": [
        "###Step 3: 模型訓練"
      ],
      "metadata": {
        "id": "OQXC_fqurucQ"
      }
    },
    {
      "cell_type": "code",
      "source": [
        "from sklearn.model_selection import train_test_split\n",
        "from sklearn.svm import SVC\n",
        "\n",
        "# 取得目標值 s\n",
        "y = [row[3] for row in train_data]\n",
        "\n",
        "# 切分訓練集和測試集\n",
        "X_train, X_test, y_train, y_test = train_test_split(X, y, test_size=0.2, random_state=42)\n",
        "\n",
        "# 使用 SVM 模型進行訓練\n",
        "svm_model = SVC(kernel='linear')\n",
        "svm_model.fit(X_train, y_train)"
      ],
      "metadata": {
        "id": "HzKqhk_2ryoo",
        "colab": {
          "base_uri": "https://localhost:8080/",
          "height": 74
        },
        "outputId": "8a407489-3724-45fa-d20f-db84d717e164"
      },
      "execution_count": 8,
      "outputs": [
        {
          "output_type": "execute_result",
          "data": {
            "text/plain": [
              "SVC(kernel='linear')"
            ],
            "text/html": [
              "<style>#sk-container-id-1 {color: black;background-color: white;}#sk-container-id-1 pre{padding: 0;}#sk-container-id-1 div.sk-toggleable {background-color: white;}#sk-container-id-1 label.sk-toggleable__label {cursor: pointer;display: block;width: 100%;margin-bottom: 0;padding: 0.3em;box-sizing: border-box;text-align: center;}#sk-container-id-1 label.sk-toggleable__label-arrow:before {content: \"▸\";float: left;margin-right: 0.25em;color: #696969;}#sk-container-id-1 label.sk-toggleable__label-arrow:hover:before {color: black;}#sk-container-id-1 div.sk-estimator:hover label.sk-toggleable__label-arrow:before {color: black;}#sk-container-id-1 div.sk-toggleable__content {max-height: 0;max-width: 0;overflow: hidden;text-align: left;background-color: #f0f8ff;}#sk-container-id-1 div.sk-toggleable__content pre {margin: 0.2em;color: black;border-radius: 0.25em;background-color: #f0f8ff;}#sk-container-id-1 input.sk-toggleable__control:checked~div.sk-toggleable__content {max-height: 200px;max-width: 100%;overflow: auto;}#sk-container-id-1 input.sk-toggleable__control:checked~label.sk-toggleable__label-arrow:before {content: \"▾\";}#sk-container-id-1 div.sk-estimator input.sk-toggleable__control:checked~label.sk-toggleable__label {background-color: #d4ebff;}#sk-container-id-1 div.sk-label input.sk-toggleable__control:checked~label.sk-toggleable__label {background-color: #d4ebff;}#sk-container-id-1 input.sk-hidden--visually {border: 0;clip: rect(1px 1px 1px 1px);clip: rect(1px, 1px, 1px, 1px);height: 1px;margin: -1px;overflow: hidden;padding: 0;position: absolute;width: 1px;}#sk-container-id-1 div.sk-estimator {font-family: monospace;background-color: #f0f8ff;border: 1px dotted black;border-radius: 0.25em;box-sizing: border-box;margin-bottom: 0.5em;}#sk-container-id-1 div.sk-estimator:hover {background-color: #d4ebff;}#sk-container-id-1 div.sk-parallel-item::after {content: \"\";width: 100%;border-bottom: 1px solid gray;flex-grow: 1;}#sk-container-id-1 div.sk-label:hover label.sk-toggleable__label {background-color: #d4ebff;}#sk-container-id-1 div.sk-serial::before {content: \"\";position: absolute;border-left: 1px solid gray;box-sizing: border-box;top: 0;bottom: 0;left: 50%;z-index: 0;}#sk-container-id-1 div.sk-serial {display: flex;flex-direction: column;align-items: center;background-color: white;padding-right: 0.2em;padding-left: 0.2em;position: relative;}#sk-container-id-1 div.sk-item {position: relative;z-index: 1;}#sk-container-id-1 div.sk-parallel {display: flex;align-items: stretch;justify-content: center;background-color: white;position: relative;}#sk-container-id-1 div.sk-item::before, #sk-container-id-1 div.sk-parallel-item::before {content: \"\";position: absolute;border-left: 1px solid gray;box-sizing: border-box;top: 0;bottom: 0;left: 50%;z-index: -1;}#sk-container-id-1 div.sk-parallel-item {display: flex;flex-direction: column;z-index: 1;position: relative;background-color: white;}#sk-container-id-1 div.sk-parallel-item:first-child::after {align-self: flex-end;width: 50%;}#sk-container-id-1 div.sk-parallel-item:last-child::after {align-self: flex-start;width: 50%;}#sk-container-id-1 div.sk-parallel-item:only-child::after {width: 0;}#sk-container-id-1 div.sk-dashed-wrapped {border: 1px dashed gray;margin: 0 0.4em 0.5em 0.4em;box-sizing: border-box;padding-bottom: 0.4em;background-color: white;}#sk-container-id-1 div.sk-label label {font-family: monospace;font-weight: bold;display: inline-block;line-height: 1.2em;}#sk-container-id-1 div.sk-label-container {text-align: center;}#sk-container-id-1 div.sk-container {/* jupyter's `normalize.less` sets `[hidden] { display: none; }` but bootstrap.min.css set `[hidden] { display: none !important; }` so we also need the `!important` here to be able to override the default hidden behavior on the sphinx rendered scikit-learn.org. See: https://github.com/scikit-learn/scikit-learn/issues/21755 */display: inline-block !important;position: relative;}#sk-container-id-1 div.sk-text-repr-fallback {display: none;}</style><div id=\"sk-container-id-1\" class=\"sk-top-container\"><div class=\"sk-text-repr-fallback\"><pre>SVC(kernel=&#x27;linear&#x27;)</pre><b>In a Jupyter environment, please rerun this cell to show the HTML representation or trust the notebook. <br />On GitHub, the HTML representation is unable to render, please try loading this page with nbviewer.org.</b></div><div class=\"sk-container\" hidden><div class=\"sk-item\"><div class=\"sk-estimator sk-toggleable\"><input class=\"sk-toggleable__control sk-hidden--visually\" id=\"sk-estimator-id-1\" type=\"checkbox\" checked><label for=\"sk-estimator-id-1\" class=\"sk-toggleable__label sk-toggleable__label-arrow\">SVC</label><div class=\"sk-toggleable__content\"><pre>SVC(kernel=&#x27;linear&#x27;)</pre></div></div></div></div></div>"
            ]
          },
          "metadata": {},
          "execution_count": 8
        }
      ]
    },
    {
      "cell_type": "markdown",
      "source": [
        "###Step 4: 模型解釋"
      ],
      "metadata": {
        "id": "xM9XiTosr0b_"
      }
    },
    {
      "cell_type": "code",
      "source": [
        "# 顯示模型係數\n",
        "print(\"Model Coefficients:\", svm_model.coef_)\n",
        "print()\n",
        "\n",
        "# 顯示支援向量\n",
        "print(\"Support Vectors:\", svm_model.support_)\n",
        "print()\n",
        "\n",
        "# 顯示模型截距\n",
        "print(\"Model Intercept:\", svm_model.intercept_)\n",
        "print()\n"
      ],
      "metadata": {
        "id": "4b90LKumr3K1",
        "colab": {
          "base_uri": "https://localhost:8080/"
        },
        "outputId": "8997f5c1-9c9d-4246-8880-899ec8211d4e"
      },
      "execution_count": 9,
      "outputs": [
        {
          "output_type": "stream",
          "name": "stdout",
          "text": [
            "Model Coefficients:   (0, 29267)\t0.28065591376073684\n",
            "  (0, 20604)\t0.28065591376073684\n",
            "  (0, 18537)\t0.3216162425944405\n",
            "  (0, 22727)\t0.1706769678456\n",
            "  (0, 27229)\t0.30925612595411495\n",
            "  (0, 17623)\t0.30925612595411495\n",
            "  (0, 23681)\t0.1577968144327076\n",
            "  (0, 4714)\t0.15150417853826165\n",
            "  (0, 16815)\t0.26380551278535824\n",
            "  (0, 3381)\t0.26380551278535824\n",
            "  (0, 21840)\t0.054869553670472825\n",
            "  (0, 15337)\t0.054869553670472825\n",
            "  (0, 14055)\t0.054869553670472825\n",
            "  (0, 29966)\t0.07982933004167658\n",
            "  (0, 29956)\t0.07982933004167658\n",
            "  (0, 24987)\t0.07982933004167658\n",
            "  (0, 22108)\t0.07982933004167658\n",
            "  (0, 15585)\t0.07245705469529692\n",
            "  (0, 12638)\t0.07982933004167658\n",
            "  (0, 10316)\t0.0753510066945681\n",
            "  (0, 8646)\t0.07982933004167658\n",
            "  (0, 6521)\t0.07982933004167658\n",
            "  (0, 6050)\t0.07982933004167658\n",
            "  (0, 5696)\t0.07982933004167658\n",
            "  (0, 4417)\t0.07982933004167658\n",
            "  :\t:\n",
            "  (0, 9053)\t1.1349762346997794\n",
            "  (0, 8655)\t0.5386499423636719\n",
            "  (0, 8494)\t0.17031320107490186\n",
            "  (0, 7734)\t0.2932556991809443\n",
            "  (0, 6822)\t-0.23476293131257708\n",
            "  (0, 6352)\t-0.23370367409565948\n",
            "  (0, 5643)\t-0.43516627564514077\n",
            "  (0, 5636)\t0.6789892953333714\n",
            "  (0, 4763)\t-0.35527650164904784\n",
            "  (0, 3857)\t-0.4550157972763592\n",
            "  (0, 3779)\t-0.9835458116636706\n",
            "  (0, 3647)\t0.6460066127459184\n",
            "  (0, 3264)\t0.6970199117999346\n",
            "  (0, 2883)\t-1.7552308773996255\n",
            "  (0, 2713)\t-0.37675587463639526\n",
            "  (0, 2486)\t1.0475015841767839\n",
            "  (0, 2433)\t0.6434012361310217\n",
            "  (0, 2303)\t-0.11856386450483786\n",
            "  (0, 2256)\t0.2923316077483166\n",
            "  (0, 2144)\t-0.8286880442433404\n",
            "  (0, 2107)\t-1.7872703019166751\n",
            "  (0, 2033)\t0.5015871363628498\n",
            "  (0, 1845)\t-0.1853373347412141\n",
            "  (0, 1346)\t0.40671360775879933\n",
            "  (0, 1332)\t1.2441233221898573\n",
            "\n",
            "Support Vectors: [   11    17    36 ... 30623 30634 30645]\n",
            "\n",
            "Model Intercept: [0.66842084]\n",
            "\n"
          ]
        }
      ]
    },
    {
      "cell_type": "markdown",
      "source": [
        "###Step 5: 模型精確性"
      ],
      "metadata": {
        "id": "XYieDJRtA_uW"
      }
    },
    {
      "cell_type": "code",
      "source": [
        "import csv\n",
        "from sklearn.feature_extraction.text import TfidfVectorizer\n",
        "from sklearn.metrics import classification_report, accuracy_score\n",
        "\n",
        "# 載入測試資料\n",
        "test_data_public = load_data('test_data_public.csv')\n",
        "test_data_private = load_data('test_data_private.csv')\n",
        "\n",
        "# 提取特徵\n",
        "def extract_features(data):\n",
        "    q_data = [row[1] for row in data]\n",
        "    r_data = [row[2] for row in data]\n",
        "    combined_data = [q + ' ' + r for q, r in zip(q_data, r_data)]\n",
        "    X_test = vectorizer.transform(combined_data)\n",
        "    return X_test, [row[3] for row in data]\n",
        "\n",
        "# 提取特徵\n",
        "X_test_public, y_test_public = extract_features(test_data_public)\n",
        "X_test_private, y_test_private = extract_features(test_data_private)\n",
        "\n",
        "# 預測\n",
        "y_pred_public = svm_model.predict(X_test_public)\n",
        "y_pred_private = svm_model.predict(X_test_private)\n",
        "\n",
        "# 評估模型精確性\n",
        "print(\"Public Test Data:\")\n",
        "print(\"Accuracy:\", accuracy_score(y_test_public, y_pred_public))\n",
        "print(classification_report(y_test_public, y_pred_public))\n",
        "\n",
        "print(\"\\nPrivate Test Data:\")\n",
        "print(\"Accuracy:\", accuracy_score(y_test_private, y_pred_private))\n",
        "print(classification_report(y_test_private, y_pred_private))"
      ],
      "metadata": {
        "id": "ec03cX0QBVIG",
        "colab": {
          "base_uri": "https://localhost:8080/"
        },
        "outputId": "8740b098-2b0f-4eab-b64c-a1b64f07ed29"
      },
      "execution_count": 10,
      "outputs": [
        {
          "output_type": "stream",
          "name": "stdout",
          "text": [
            "Public Test Data:\n",
            "Accuracy: 0.7804286291953093\n",
            "              precision    recall  f1-score   support\n",
            "\n",
            "       AGREE       0.28      0.15      0.19      1322\n",
            "    DISAGREE       0.83      0.92      0.87      6097\n",
            "\n",
            "    accuracy                           0.78      7419\n",
            "   macro avg       0.56      0.53      0.53      7419\n",
            "weighted avg       0.73      0.78      0.75      7419\n",
            "\n",
            "\n",
            "Private Test Data:\n",
            "Accuracy: 0.7928232904536222\n",
            "              precision    recall  f1-score   support\n",
            "\n",
            "       AGREE       0.40      0.23      0.29      1371\n",
            "    DISAGREE       0.84      0.92      0.88      6014\n",
            "\n",
            "    accuracy                           0.79      7385\n",
            "   macro avg       0.62      0.57      0.58      7385\n",
            "weighted avg       0.76      0.79      0.77      7385\n",
            "\n"
          ]
        }
      ]
    }
  ]
}